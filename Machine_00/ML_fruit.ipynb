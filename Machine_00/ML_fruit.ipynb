{
 "cells": [
  {
   "cell_type": "code",
   "execution_count": 1,
   "metadata": {},
   "outputs": [
    {
     "name": "stdout",
     "output_type": "stream",
     "text": [
      "Trained fruit_classifier\n",
      "DecisionTreeClassifier(class_weight=None, criterion='gini', max_depth=None,\n",
      "            max_features=None, max_leaf_nodes=None,\n",
      "            min_impurity_decrease=0.0, min_impurity_split=None,\n",
      "            min_samples_leaf=1, min_samples_split=2,\n",
      "            min_weight_fraction_leaf=0.0, presort=False, random_state=None,\n",
      "            splitter='best')\n",
      "Actual fruit type: 1 , Fruit classifier predicted: [1]\n",
      "Actual fruit type: 1 , Fruit classifier predicted: [1]\n",
      "Actual fruit type: 0 , Fruit classifier predicted: [0]\n"
     ]
    }
   ],
   "source": [
    "#!/usr/bin/env python\n",
    "\n",
    "# fruit_classifier.py\n",
    "\n",
    "# Author : Saimadhu Polamuri\n",
    "\n",
    "# Date: 18-April-2017\n",
    "\n",
    "# About: Fruit classifier with decision tree algorithm\n",
    "\n",
    "\n",
    "\n",
    "# Required Python Packages\n",
    "\n",
    "import pandas as pd\n",
    "\n",
    "import numpy as np\n",
    "\n",
    "from sklearn import tree\n",
    "\n",
    "\n",
    "\n",
    "\n",
    "\n",
    "# creating dataset for modeling Apple / Orange classification\n",
    "\n",
    "fruit_data_set = pd.DataFrame()\n",
    "\n",
    "fruit_data_set[\"fruit\"] = np.array([1, 1, 1, 1, 1,      # 1 for apple\n",
    "\n",
    "                                    0, 0, 0, 0, 0])     # 0 for orange\n",
    "\n",
    "fruit_data_set[\"weight\"] = np.array([170, 175, 180, 178, 182,\n",
    "\n",
    "                                     130, 120, 130, 138, 145])\n",
    "\n",
    "fruit_data_set[\"smooth\"] = np.array([9, 10, 8, 8, 7,\n",
    "\n",
    "                                     3, 4, 2, 5, 6])\n",
    "\n",
    "\n",
    "\n",
    "fruit_classifier = tree.DecisionTreeClassifier()\n",
    "\n",
    "fruit_classifier.fit(fruit_data_set[[\"weight\", \"smooth\"]], fruit_data_set[\"fruit\"])\n",
    "\n",
    "\n",
    "\n",
    "print(\"Trained fruit_classifier\")\n",
    "\n",
    "print (fruit_classifier)\n",
    "\n",
    "\n",
    "\n",
    "# fruit data set 1st observation\n",
    "\n",
    "test_features_1 = [[fruit_data_set[\"weight\"][0], fruit_data_set[\"smooth\"][0]]]\n",
    "\n",
    "test_features_1_fruit = fruit_classifier.predict(test_features_1)\n",
    "\n",
    "print (\"Actual fruit type: {act_fruit} , Fruit classifier predicted: {predicted_fruit}\".format(\n",
    "\n",
    "    act_fruit=fruit_data_set[\"fruit\"][0], predicted_fruit=test_features_1_fruit))\n",
    "\n",
    "\n",
    "\n",
    "# fruit data set 3rd observation\n",
    "\n",
    "test_features_3 = [[fruit_data_set[\"weight\"][2], fruit_data_set[\"smooth\"][2]]]\n",
    "\n",
    "test_features_3_fruit = fruit_classifier.predict(test_features_3)\n",
    "\n",
    "print (\"Actual fruit type: {act_fruit} , Fruit classifier predicted: {predicted_fruit}\".format(\n",
    "\n",
    "    act_fruit=fruit_data_set[\"fruit\"][2], predicted_fruit=test_features_3_fruit))\n",
    "\n",
    "\n",
    "\n",
    "# fruit data set 8th observation\n",
    "\n",
    "test_features_8 = [[fruit_data_set[\"weight\"][7], fruit_data_set[\"smooth\"][7]]]\n",
    "\n",
    "test_features_8_fruit = fruit_classifier.predict(test_features_8)\n",
    "\n",
    "print (\"Actual fruit type: {act_fruit} , Fruit classifier predicted: {predicted_fruit}\".format(\n",
    "\n",
    "    act_fruit=fruit_data_set[\"fruit\"][7], predicted_fruit=test_features_8_fruit))\n",
    "\n",
    "\n",
    "\n",
    "\n",
    "\n",
    "with open(\"fruit_classifier.txt\", \"w\") as f:\n",
    "\n",
    "    f = tree.export_graphviz(fruit_classifier, out_file=f)\n",
    "\n",
    "\n",
    "\n",
    "# converting into the pdf file\n",
    "\n",
    "with open(\"fruit_classifier.dot\", \"w\") as f:\n",
    "\n",
    "    f = tree.export_graphviz(fruit_classifier, out_file=f)\n",
    "\n"
   ]
  },
  {
   "cell_type": "code",
   "execution_count": 8,
   "metadata": {},
   "outputs": [
    {
     "name": "stdout",
     "output_type": "stream",
     "text": [
      "[25601.98995569]\n",
      "[[9524.6827507]]\n",
      "\n",
      "\n",
      "\n",
      "    Actual      Predicted\n",
      "0   54445   56080.974758\n",
      "1  112635  117038.944362\n",
      "2   63218   62748.252683\n",
      "3  109431  108466.729887\n",
      "4   60150   54176.038208\n",
      "5   57081   64653.189234\n"
     ]
    }
   ],
   "source": [
    "import pandas as pd \n",
    "from sklearn.model_selection import train_test_split \n",
    "from sklearn.linear_model import LinearRegression\n",
    "import pickle\n",
    "\n",
    "\n",
    "dataset = pd.read_csv('D:/ML/Salary_Data.csv')\n",
    "\n",
    "X = dataset['YearsExperience'].values.reshape(-1,1)\n",
    "y = dataset['Salary'].values.reshape(-1,1)\n",
    "\n",
    "X_train, X_test, y_train, y_test = train_test_split(X, y, test_size=0.2)\n",
    "\n",
    "regressor = LinearRegression()  \n",
    "regressor.fit(X_train, y_train) #training the algorithm\n",
    "\n",
    "\n",
    "#To retrieve the intercept:\n",
    "print(regressor.intercept_)\n",
    "#For retrieving the slope:\n",
    "print(regressor.coef_)\n",
    "#print(X_test)\n",
    "\n",
    "y_pred = regressor.predict(X_test)\n",
    "\n",
    "df = pd.DataFrame({'Actual': y_test.flatten(), 'Predicted': y_pred.flatten()})\n",
    "print(\"\\n\\n\\n\",df)\n",
    "\n",
    "\n",
    "\n",
    "filename = 'finalized_model.sav'\n",
    "pickle.dump(regressor, open(filename, 'wb'))\n",
    "\n",
    "\n",
    "\n",
    "\n"
   ]
  },
  {
   "cell_type": "code",
   "execution_count": 1,
   "metadata": {},
   "outputs": [
    {
     "name": "stdout",
     "output_type": "stream",
     "text": [
      "0.9393955917820571\n"
     ]
    }
   ],
   "source": [
    "import pandas as pd \n",
    "from sklearn.model_selection import train_test_split \n",
    "from sklearn.linear_model import LinearRegression\n",
    "import pickle\n",
    "\n",
    "#import the dataset\n",
    "dataset = pd.read_csv('E:/rohan/CSE 5/ML/ML/Startups.csv')\n",
    "\n",
    "X = dataset.iloc[:,:-2]  \n",
    "#slicing data frame\n",
    "# [:,:-1] indicates until the last coloumn i.e. excluding last 2 col\n",
    "#print(X)\n",
    "y = dataset.iloc[:, 4:5]\n",
    "\n",
    "#print(y)\n",
    "X_train, X_test, y_train, y_test = train_test_split(X, y, test_size=0.2,random_state=0)\n",
    "\n",
    "regressor = LinearRegression()  \n",
    "regressor.fit(X_train, y_train) #training the algorithm\n",
    "\n",
    "\n",
    "#To retrieve the intercept:\n",
    "'''print(regressor.intercept_)\n",
    "#For retrieving the slope:\n",
    "print(regressor.coef_)\n",
    "print(X_test)'''\n",
    "\n",
    "y_pred = regressor.predict(X_test)\n",
    "\n",
    "\n",
    "from sklearn.metrics import r2_score\n",
    "score = r2_score(y_test,y_pred)\n",
    "print(score)\n",
    "\n",
    "\n",
    "pickle.dump(regressor, open('final_model.sav', 'wb'))"
   ]
  },
  {
   "cell_type": "code",
   "execution_count": 2,
   "metadata": {},
   "outputs": [
    {
     "data": {
      "text/html": [
       "<div>\n",
       "<style scoped>\n",
       "    .dataframe tbody tr th:only-of-type {\n",
       "        vertical-align: middle;\n",
       "    }\n",
       "\n",
       "    .dataframe tbody tr th {\n",
       "        vertical-align: top;\n",
       "    }\n",
       "\n",
       "    .dataframe thead th {\n",
       "        text-align: right;\n",
       "    }\n",
       "</style>\n",
       "<table border=\"1\" class=\"dataframe\">\n",
       "  <thead>\n",
       "    <tr style=\"text-align: right;\">\n",
       "      <th></th>\n",
       "      <th>R&amp;D Spend</th>\n",
       "      <th>Administration</th>\n",
       "      <th>Marketing Spend</th>\n",
       "      <th>State</th>\n",
       "      <th>Profit</th>\n",
       "    </tr>\n",
       "  </thead>\n",
       "  <tbody>\n",
       "    <tr>\n",
       "      <th>0</th>\n",
       "      <td>165349.20</td>\n",
       "      <td>136897.80</td>\n",
       "      <td>471784.10</td>\n",
       "      <td>New York</td>\n",
       "      <td>192261.83</td>\n",
       "    </tr>\n",
       "    <tr>\n",
       "      <th>1</th>\n",
       "      <td>162597.70</td>\n",
       "      <td>151377.59</td>\n",
       "      <td>443898.53</td>\n",
       "      <td>California</td>\n",
       "      <td>191792.06</td>\n",
       "    </tr>\n",
       "    <tr>\n",
       "      <th>2</th>\n",
       "      <td>153441.51</td>\n",
       "      <td>101145.55</td>\n",
       "      <td>407934.54</td>\n",
       "      <td>Florida</td>\n",
       "      <td>191050.39</td>\n",
       "    </tr>\n",
       "    <tr>\n",
       "      <th>3</th>\n",
       "      <td>144372.41</td>\n",
       "      <td>118671.85</td>\n",
       "      <td>383199.62</td>\n",
       "      <td>New York</td>\n",
       "      <td>182901.99</td>\n",
       "    </tr>\n",
       "    <tr>\n",
       "      <th>4</th>\n",
       "      <td>142107.34</td>\n",
       "      <td>91391.77</td>\n",
       "      <td>366168.42</td>\n",
       "      <td>Florida</td>\n",
       "      <td>166187.94</td>\n",
       "    </tr>\n",
       "  </tbody>\n",
       "</table>\n",
       "</div>"
      ],
      "text/plain": [
       "   R&D Spend  Administration  Marketing Spend       State     Profit\n",
       "0  165349.20       136897.80        471784.10    New York  192261.83\n",
       "1  162597.70       151377.59        443898.53  California  191792.06\n",
       "2  153441.51       101145.55        407934.54     Florida  191050.39\n",
       "3  144372.41       118671.85        383199.62    New York  182901.99\n",
       "4  142107.34        91391.77        366168.42     Florida  166187.94"
      ]
     },
     "execution_count": 2,
     "metadata": {},
     "output_type": "execute_result"
    }
   ],
   "source": [
    "dataset.head()\n",
    "\n"
   ]
  },
  {
   "cell_type": "code",
   "execution_count": 3,
   "metadata": {},
   "outputs": [
    {
     "name": "stdout",
     "output_type": "stream",
     "text": [
      "[[263393.]]\n",
      "[[183105.]]\n"
     ]
    }
   ],
   "source": [
    "import numpy as np\n",
    "import pickle \n",
    "\n",
    "loaded_model = pickle.load(open(\"final_model.sav\", 'rb'))\n",
    "\n",
    "X_test = [[278902,84710,20000]]\n",
    "\n",
    "y_pred= loaded_model.predict(X_test)\n",
    "\n",
    "print(np.round(y_pred))\n",
    "\n",
    "X_test = [[178902,14710,10000]]\n",
    "\n",
    "y_pred= loaded_model.predict(X_test)\n",
    "\n",
    "print(np.round(y_pred))\n",
    "\n"
   ]
  },
  {
   "cell_type": "code",
   "execution_count": 4,
   "metadata": {},
   "outputs": [
    {
     "name": "stdout",
     "output_type": "stream",
     "text": [
      "Enter R&D Spend :Rs 436\n",
      "Enter Administration :Rs 24\n",
      "Enter Marketing Spend :Rs 65\n"
     ]
    },
    {
     "data": {
      "application/vnd.jupyter.widget-view+json": {
       "model_id": "b813d7207d1c479d9716740bb801f81b",
       "version_major": 2,
       "version_minor": 0
      },
      "text/plain": [
       "Button(description='<<Predict Profit>>', style=ButtonStyle())"
      ]
     },
     "metadata": {},
     "output_type": "display_data"
    },
    {
     "data": {
      "application/vnd.jupyter.widget-view+json": {
       "model_id": "208d92e9097343ffa855875d1c943526",
       "version_major": 2,
       "version_minor": 0
      },
      "text/plain": [
       "Output()"
      ]
     },
     "metadata": {},
     "output_type": "display_data"
    }
   ],
   "source": [
    "\n",
    "RD_Spend=float(input(\"Enter R&D Spend :Rs \"))\n",
    "Administration=float(input(\"Enter Administration :Rs \"))\n",
    "Marketing=float(input(\"Enter Marketing Spend :Rs \"))\n",
    "\n",
    "import ipywidgets as widgets\n",
    "from IPython.display import display\n",
    "button = widgets.Button(description=\"<<Predict Profit>>\")\n",
    "output = widgets.Output()\n",
    "\n",
    "display(button, output)\n",
    "\n",
    "def on_button_clicked(b):\n",
    "    with output:\n",
    "        X_test = [[RD_Spend,Administration,Marketing]]\n",
    "        y_pred= loaded_model.predict(X_test)\n",
    "        t=np.round(y_pred[0])\n",
    "        print(\"Profit : Rs\",t[0])\n",
    "\n",
    "button.on_click(on_button_clicked)"
   ]
  }
 ],
 "metadata": {
  "kernelspec": {
   "display_name": "Python 3",
   "language": "python",
   "name": "python3"
  },
  "language_info": {
   "codemirror_mode": {
    "name": "ipython",
    "version": 3
   },
   "file_extension": ".py",
   "mimetype": "text/x-python",
   "name": "python",
   "nbconvert_exporter": "python",
   "pygments_lexer": "ipython3",
   "version": "3.7.3"
  }
 },
 "nbformat": 4,
 "nbformat_minor": 2
}

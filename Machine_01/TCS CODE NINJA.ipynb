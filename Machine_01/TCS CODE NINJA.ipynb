{
 "cells": [
  {
   "cell_type": "markdown",
   "metadata": {},
   "source": [
    "# TCS code NIJA(2019)"
   ]
  },
  {
   "cell_type": "markdown",
   "metadata": {},
   "source": [
    "# Q->0,0,2,1,4,2,8,3,10,4,12,5,14,6,16,7"
   ]
  },
  {
   "cell_type": "code",
   "execution_count": 44,
   "metadata": {},
   "outputs": [
    {
     "name": "stdout",
     "output_type": "stream",
     "text": [
      "Enter Number: 9\n",
      "[0, 0, 2, 1, 4, 2, 6, 3, 8] \n",
      " 8\n"
     ]
    }
   ],
   "source": [
    "n=int(input(\"Enter Number: \"))\n",
    "app=[]\n",
    "t=0\n",
    "m=0\n",
    "for i in range(0,n):\n",
    "    if i==0:\n",
    "        app.append(0)\n",
    "    elif i==1:\n",
    "        app.append(0)\n",
    "    elif i%2 ==0:\n",
    "        t=t+2\n",
    "        app.append(t)\n",
    "    else:\n",
    "        m=m+1\n",
    "        app.append(m)\n",
    "print(app,\"\\n\",app[n-1])"
   ]
  },
  {
   "cell_type": "code",
   "execution_count": 64,
   "metadata": {},
   "outputs": [
    {
     "name": "stdout",
     "output_type": "stream",
     "text": [
      "140716264297568\n",
      "140716264297568\n",
      "True\n",
      "True\n",
      "True\n"
     ]
    },
    {
     "data": {
      "text/plain": [
       "True"
      ]
     },
     "execution_count": 64,
     "metadata": {},
     "output_type": "execute_result"
    }
   ],
   "source": [
    "x=10\n",
    "y=10\n",
    "z=[10,10]\n",
    "print(id(x))\n",
    "print(id(y))\n",
    "print (x is y)\n",
    "del(x)\n",
    "x=10\n",
    "y=20\n",
    "z=30\n",
    "t=10\n",
    "print (x is t)\n",
    "t=20\n",
    "print (y is t)\n",
    "y is x\n",
    "x is x"
   ]
  }
 ],
 "metadata": {
  "kernelspec": {
   "display_name": "Python 3",
   "language": "python",
   "name": "python3"
  },
  "language_info": {
   "codemirror_mode": {
    "name": "ipython",
    "version": 3
   },
   "file_extension": ".py",
   "mimetype": "text/x-python",
   "name": "python",
   "nbconvert_exporter": "python",
   "pygments_lexer": "ipython3",
   "version": "3.7.3"
  }
 },
 "nbformat": 4,
 "nbformat_minor": 2
}

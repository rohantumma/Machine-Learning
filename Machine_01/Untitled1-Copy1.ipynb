{
 "cells": [
  {
   "cell_type": "markdown",
   "metadata": {},
   "source": [
    "# Edge detection"
   ]
  },
  {
   "cell_type": "code",
   "execution_count": null,
   "metadata": {},
   "outputs": [],
   "source": [
    "# OpenCV program to perform Edge detection in real time \n",
    "# import libraries of python OpenCV \n",
    "# where its functionality resides \n",
    "import cv2 \n",
    "\n",
    "# np is an alias pointing to numpy library \n",
    "import numpy as np \n",
    "\n",
    "\n",
    "# capture frames from a camera \n",
    "cap = cv2.VideoCapture(0) \n",
    "\n",
    "\n",
    "# loop runs if capturing has been initialized \n",
    "while(1): \n",
    "\n",
    "    # reads frames from a camera \n",
    "    ret, frame = cap.read() \n",
    "\n",
    "    # converting BGR to HSV \n",
    "    hsv = cv2.cvtColor(frame, cv2.COLOR_BGR2HSV) \n",
    "\n",
    "    # define range of red color in HSV \n",
    "    lower_red = np.array([30,150,50]) \n",
    "    upper_red = np.array([255,255,180]) \n",
    "\n",
    "    # create a red HSV colour boundary and \n",
    "    # threshold HSV image \n",
    "    mask = cv2.inRange(hsv, lower_red, upper_red) \n",
    "\n",
    "    # Bitwise-AND mask and original image \n",
    "    res = cv2.bitwise_and(frame,frame, mask= mask) \n",
    "\n",
    "    # Display an original image \n",
    "    cv2.imshow('Original',frame) \n",
    "\n",
    "    # finds edges in the input image image and \n",
    "    # marks them in the output map edges \n",
    "    edges = cv2.Canny(frame,100,200) \n",
    "\n",
    "    # Display edges in a frame \n",
    "    cv2.imshow('Edges',edges) \n",
    "\n",
    "    # Wait for Esc key to stop \n",
    "    k = cv2.waitKey(5) & 0xFF\n",
    "    if k == 27: \n",
    "        break\n",
    "\n",
    "        \n",
    "\n",
    "# Close the window \n",
    "cap.release()  \n",
    "\n",
    "# De-allocate any associated memory usage \n",
    "cv2.destroyAllWindows() "
   ]
  },
  {
   "cell_type": "markdown",
   "metadata": {},
   "source": [
    "# circle detection"
   ]
  },
  {
   "cell_type": "code",
   "execution_count": null,
   "metadata": {},
   "outputs": [],
   "source": []
  },
  {
   "cell_type": "code",
   "execution_count": null,
   "metadata": {},
   "outputs": [],
   "source": []
  }
 ],
 "metadata": {
  "kernelspec": {
   "display_name": "Python 3",
   "language": "python",
   "name": "python3"
  },
  "language_info": {
   "codemirror_mode": {
    "name": "ipython",
    "version": 3
   },
   "file_extension": ".py",
   "mimetype": "text/x-python",
   "name": "python",
   "nbconvert_exporter": "python",
   "pygments_lexer": "ipython3",
   "version": "3.7.3"
  }
 },
 "nbformat": 4,
 "nbformat_minor": 2
}
